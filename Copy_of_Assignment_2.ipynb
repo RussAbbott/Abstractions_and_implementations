{
  "nbformat": 4,
  "nbformat_minor": 0,
  "metadata": {
    "colab": {
      "name": "Copy of Assignment 2",
      "provenance": [],
      "collapsed_sections": [],
      "authorship_tag": "ABX9TyNLYSymzTC1ZIH0KgIN3j6L",
      "include_colab_link": true
    },
    "kernelspec": {
      "name": "python3",
      "display_name": "Python 3"
    }
  },
  "cells": [
    {
      "cell_type": "markdown",
      "metadata": {
        "id": "view-in-github",
        "colab_type": "text"
      },
      "source": [
        "<a href=\"https://colab.research.google.com/github/RussAbbott/Abstractions_and_implementations/blob/master/Copy_of_Assignment_2.ipynb\" target=\"_parent\"><img src=\"https://colab.research.google.com/assets/colab-badge.svg\" alt=\"Open In Colab\"/></a>"
      ]
    },
    {
      "cell_type": "markdown",
      "metadata": {
        "id": "F3k8J0itPYDt",
        "colab_type": "text"
      },
      "source": [
        "\n",
        "# Introduction to Assignment 2\n",
        "\n",
        "Suppose you have a set of numbers: `a_set`. (Why am I sure that the following produces a set?)\n"
      ]
    },
    {
      "cell_type": "code",
      "metadata": {
        "id": "oRShJRpXPwYy",
        "colab_type": "code",
        "colab": {
          "base_uri": "https://localhost:8080/",
          "height": 35
        },
        "outputId": "f21f4e5a-1558-4654-b8b1-efa9c15bea4d"
      },
      "source": [
        "from random import sample\n",
        "\n",
        "a_set = sample(range(15), 9)\n",
        "print(f'a_set: {a_set}')"
      ],
      "execution_count": null,
      "outputs": [
        {
          "output_type": "stream",
          "text": [
            "a_set: [4, 8, 7, 13, 1, 5, 0, 10, 2]\n"
          ],
          "name": "stdout"
        }
      ]
    },
    {
      "cell_type": "markdown",
      "metadata": {
        "id": "KeTgBa00P-ek",
        "colab_type": "text"
      },
      "source": [
        "And suppose you select a number `k`.\n",
        "\n"
      ]
    },
    {
      "cell_type": "code",
      "metadata": {
        "id": "TtPTYcvZQDtm",
        "colab_type": "code",
        "colab": {
          "base_uri": "https://localhost:8080/",
          "height": 35
        },
        "outputId": "dfd207da-bb05-4cf7-e6ce-54a41d92afac"
      },
      "source": [
        "from statistics import mean\n",
        "\n",
        "k = round(2*mean(a_set))\n",
        "print(f'k: {k}')"
      ],
      "execution_count": null,
      "outputs": [
        {
          "output_type": "stream",
          "text": [
            "k: 11\n"
          ],
          "name": "stdout"
        }
      ]
    },
    {
      "cell_type": "markdown",
      "metadata": {
        "id": "G9zAW9m9QNSB",
        "colab_type": "text"
      },
      "source": [
        "The following will tell you which pairs of numbers from `a_set` add up to `k`. \n",
        "\n",
        ">You may not find any, or you may find multiple pairs.\n",
        "\n",
        ">You can select `Runtime > Run all` to try it multiple times."
      ]
    },
    {
      "cell_type": "code",
      "metadata": {
        "id": "nZMna2YDQUbR",
        "colab_type": "code",
        "colab": {
          "base_uri": "https://localhost:8080/",
          "height": 35
        },
        "outputId": "c43d8236-e643-4b92-ab9d-f52bfcc40744"
      },
      "source": [
        "pairs_that_sum_to_k = [(low, k-low) for low in a_set if low < k/2 and k-low in a_set]\n",
        "print(k, pairs_that_sum_to_k)"
      ],
      "execution_count": null,
      "outputs": [
        {
          "output_type": "stream",
          "text": [
            "11 [(4, 7), (1, 10)]\n"
          ],
          "name": "stdout"
        }
      ]
    },
    {
      "cell_type": "markdown",
      "metadata": {
        "id": "M2gWuQXITPsL",
        "colab_type": "text"
      },
      "source": [
        "Assignment 2 is a generalization of the preceding.\n",
        "\n",
        "# The code and questions for Assignment 2\n",
        "\n",
        "Each text block asks you to explain something about the program in the  code block that precedes it. Put your explanation below the horizontal line."
      ]
    },
    {
      "cell_type": "code",
      "metadata": {
        "id": "c_q7ffVxmy9n",
        "colab_type": "code",
        "colab": {}
      },
      "source": [
        "def pairs_sum_to_k(a_set, k):\n",
        "    \"\"\" Find pairs of numbers from a_set (a set of integers) that sum to k (an integer). \"\"\"\n",
        "    pairs = [(low, k-low) for low in a_set if low < k/2 and k-low in a_set]\n",
        "    return pairs"
      ],
      "execution_count": null,
      "outputs": []
    },
    {
      "cell_type": "markdown",
      "metadata": {
        "id": "uFu0-AF5nOc4",
        "colab_type": "text"
      },
      "source": [
        "Explain the structure of the code block above, i.e. \n",
        "* a line beginning with **`def`** and ending with **`:`** ; \n",
        "* one or more lines surrounded by triple double quotes;\n",
        "* one or more lines of code and comments.\n",
        "\n",
        "What does that structure do?\n",
        "\n",
        "\n",
        "---\n",
        "\n",
        "\n",
        "\n",
        "\n",
        "\n"
      ]
    },
    {
      "cell_type": "markdown",
      "metadata": {
        "id": "r4Er6NEEvIoc",
        "colab_type": "text"
      },
      "source": [
        "Explain line 3 of the above function.\n",
        "\n",
        "---\n"
      ]
    },
    {
      "cell_type": "code",
      "metadata": {
        "id": "HpD6KuCtnIE1",
        "colab_type": "code",
        "colab": {}
      },
      "source": [
        "def pair_sums(a_set):\n",
        "    \"\"\"\n",
        "    Using a_set (a set of integers) as input, create a dictionary where the keys are the values that \n",
        "    pairs of elements in a_set can sum to. The value for each key is a list of pairs from the set,  \n",
        "    smaller one first, that sum to that number. Return that dictionary.\n",
        "    \"\"\"\n",
        "    pairs_lists_dict = {k: pairs_sum_to_k(a_set, k) for k in range(2*max(a_set))}\n",
        "    pairs_lists_non_null = {key: pairs_lists_dict[key] for key in pairs_lists_dict if pairs_lists_dict[key] != []}\n",
        "    return pairs_lists_non_null"
      ],
      "execution_count": null,
      "outputs": []
    },
    {
      "cell_type": "markdown",
      "metadata": {
        "id": "YnlJmZirnXKa",
        "colab_type": "text"
      },
      "source": [
        "Explain line 7 of the above function.\n",
        "\n",
        "---\n",
        "\n"
      ]
    },
    {
      "cell_type": "markdown",
      "metadata": {
        "id": "ZDI3iCyrneqD",
        "colab_type": "text"
      },
      "source": [
        "Explain line 8 of the above function.\n",
        "\n",
        "---\n",
        "\n"
      ]
    },
    {
      "cell_type": "code",
      "metadata": {
        "id": "6ikle_ia7RHI",
        "colab_type": "code",
        "colab": {}
      },
      "source": [
        "def keys_with_longest_lists(pairs_lists):\n",
        "    \"\"\" \n",
        "    Find the keys in pairs_lists that have the largest number of pairs that sum to that key. We can call that\n",
        "    number \"max_pairs_length.\" Often there will be more than one key with lists of length max_pairs_length.\n",
        "    Return (a) max_pairs_length and (b) the keys and their associated lists with that length. \n",
        "    \"\"\"\n",
        "    max_pairs_length = max(len(vals) for vals in pairs_lists.values())\n",
        "    all_longest_lists = {key: pairs_lists[key] for key in pairs_lists if len(pairs_lists[key]) == max_pairs_length}\n",
        "    return (max_pairs_length, all_longest_lists)\n"
      ],
      "execution_count": null,
      "outputs": []
    },
    {
      "cell_type": "markdown",
      "metadata": {
        "id": "xjg2-6q9noN0",
        "colab_type": "text"
      },
      "source": [
        "Explain line 7 of the above function.\n",
        "\n",
        "---\n",
        "\n"
      ]
    },
    {
      "cell_type": "markdown",
      "metadata": {
        "id": "v2HRr9GGns3R",
        "colab_type": "text"
      },
      "source": [
        "Explain line 8 of the above function.\n",
        "\n",
        "---\n",
        "\n"
      ]
    },
    {
      "cell_type": "markdown",
      "metadata": {
        "id": "R_PXaUOUn6Rb",
        "colab_type": "text"
      },
      "source": [
        "Explain line 9 of the above function.\n",
        "\n",
        "---\n",
        "\n"
      ]
    },
    {
      "cell_type": "markdown",
      "metadata": {
        "id": "j0dU5JU9Rn51",
        "colab_type": "text"
      },
      "source": [
        "This code block calls the functions that were defined above and then prints the resuls.\n",
        "> Any code block may be run separately. But if a code block refers to an element in a preceding code block, the earlier one must be run (which in some cases just means compiled or recompiled) *after* the later one was written but before the later one is run. Or, you can click `Runtime > Run all` to compile and run all code blocks.\n",
        "\n",
        "\n",
        "\n",
        "\n",
        "\n"
      ]
    },
    {
      "cell_type": "code",
      "metadata": {
        "id": "2pynrqgzpvjY",
        "colab_type": "code",
        "colab": {}
      },
      "source": [
        "from random import sample"
      ],
      "execution_count": null,
      "outputs": []
    },
    {
      "cell_type": "markdown",
      "metadata": {
        "id": "eb6g7CJIpxol",
        "colab_type": "text"
      },
      "source": [
        "Explain the preceding line. \n",
        "\n",
        "---\n",
        "\n"
      ]
    },
    {
      "cell_type": "code",
      "metadata": {
        "id": "ISkfkr8Sp-WV",
        "colab_type": "code",
        "colab": {
          "base_uri": "https://localhost:8080/",
          "height": 35
        },
        "outputId": "011b778b-f4b9-4fc7-d806-84a429018d3c"
      },
      "source": [
        "upper_bound = 26\n",
        "sample_size = 8\n",
        "\n",
        "my_numbers_as_a_list = sample(range(1, upper_bound), sample_size) + sample(range(1, upper_bound), sample_size) \n",
        "print(f'my_numbers_as_a_list: {my_numbers_as_a_list}')"
      ],
      "execution_count": null,
      "outputs": [
        {
          "output_type": "stream",
          "text": [
            "my_numbers_as_a_list: [18, 13, 11, 19, 14, 5, 23, 4, 6, 19, 1, 9, 20, 24, 12, 21]\n"
          ],
          "name": "stdout"
        }
      ]
    },
    {
      "cell_type": "markdown",
      "metadata": {
        "id": "0Q4AqRfbqADq",
        "colab_type": "text"
      },
      "source": [
        "There's no particular reason to generate `my_numbers_as_a_list` this way except to illustrate (a) the `sample` function and (b) the `+` operation on lists.  Explain both.\n",
        "\n",
        "---\n",
        "\n"
      ]
    },
    {
      "cell_type": "code",
      "metadata": {
        "id": "aOd1Eh30qhJG",
        "colab_type": "code",
        "colab": {
          "base_uri": "https://localhost:8080/",
          "height": 35
        },
        "outputId": "0b9a1ad6-d213-4925-b00e-ac90e334b0ef"
      },
      "source": [
        "my_numbers_as_a_set = set(my_numbers_as_a_list)\n",
        "print(f'my_numbers_as_a_set: {my_numbers_as_a_set}')"
      ],
      "execution_count": null,
      "outputs": [
        {
          "output_type": "stream",
          "text": [
            "my_numbers_as_a_set: {1, 4, 5, 6, 9, 11, 12, 13, 14, 18, 19, 20, 21, 23, 24}\n"
          ],
          "name": "stdout"
        }
      ]
    },
    {
      "cell_type": "markdown",
      "metadata": {
        "id": "duEk-Mc2qkrH",
        "colab_type": "text"
      },
      "source": [
        "How would you expect `my_numbers_as_a_set` to differ from `my_numbers_as_a_list`?"
      ]
    },
    {
      "cell_type": "code",
      "metadata": {
        "id": "gcmWi5VlrHwn",
        "colab_type": "code",
        "colab": {
          "base_uri": "https://localhost:8080/",
          "height": 799
        },
        "outputId": "3a106565-8713-4aa8-84db-79ea7279a01e"
      },
      "source": [
        "non_null_pair_sums = pair_sums(my_numbers_as_a_set)\n",
        "print('\\nPairs lists')\n",
        "for key in non_null_pair_sums:\n",
        "    print(f'{key}: {non_null_pair_sums[key]}') "
      ],
      "execution_count": null,
      "outputs": [
        {
          "output_type": "stream",
          "text": [
            "\n",
            "Pairs lists\n",
            "5: [(1, 4)]\n",
            "6: [(1, 5)]\n",
            "7: [(1, 6)]\n",
            "9: [(4, 5)]\n",
            "10: [(1, 9), (4, 6)]\n",
            "11: [(5, 6)]\n",
            "12: [(1, 11)]\n",
            "13: [(1, 12), (4, 9)]\n",
            "14: [(1, 13), (5, 9)]\n",
            "15: [(1, 14), (4, 11), (6, 9)]\n",
            "16: [(4, 12), (5, 11)]\n",
            "17: [(4, 13), (5, 12), (6, 11)]\n",
            "18: [(4, 14), (5, 13), (6, 12)]\n",
            "19: [(1, 18), (5, 14), (6, 13)]\n",
            "20: [(1, 19), (6, 14), (9, 11)]\n",
            "21: [(1, 20), (9, 12)]\n",
            "22: [(1, 21), (4, 18), (9, 13)]\n",
            "23: [(4, 19), (5, 18), (9, 14), (11, 12)]\n",
            "24: [(1, 23), (4, 20), (5, 19), (6, 18), (11, 13)]\n",
            "25: [(1, 24), (4, 21), (5, 20), (6, 19), (11, 14), (12, 13)]\n",
            "26: [(5, 21), (6, 20), (12, 14)]\n",
            "27: [(4, 23), (6, 21), (9, 18), (13, 14)]\n",
            "28: [(4, 24), (5, 23), (9, 19)]\n",
            "29: [(5, 24), (6, 23), (9, 20), (11, 18)]\n",
            "30: [(6, 24), (9, 21), (11, 19), (12, 18)]\n",
            "31: [(11, 20), (12, 19), (13, 18)]\n",
            "32: [(9, 23), (11, 21), (12, 20), (13, 19), (14, 18)]\n",
            "33: [(9, 24), (12, 21), (13, 20), (14, 19)]\n",
            "34: [(11, 23), (13, 21), (14, 20)]\n",
            "35: [(11, 24), (12, 23), (14, 21)]\n",
            "36: [(12, 24), (13, 23)]\n",
            "37: [(13, 24), (14, 23), (18, 19)]\n",
            "38: [(14, 24), (18, 20)]\n",
            "39: [(18, 21), (19, 20)]\n",
            "40: [(19, 21)]\n",
            "41: [(18, 23), (20, 21)]\n",
            "42: [(18, 24), (19, 23)]\n",
            "43: [(19, 24), (20, 23)]\n",
            "44: [(20, 24), (21, 23)]\n",
            "45: [(21, 24)]\n",
            "47: [(23, 24)]\n"
          ],
          "name": "stdout"
        }
      ]
    },
    {
      "cell_type": "markdown",
      "metadata": {
        "id": "wE5yK_A4rLGb",
        "colab_type": "text"
      },
      "source": [
        "Explain lines 3 and 4 above and how they produce the output that's generated.\n",
        "\n",
        "---\n",
        "\n"
      ]
    },
    {
      "cell_type": "code",
      "metadata": {
        "id": "bd43HFE6rdPh",
        "colab_type": "code",
        "colab": {
          "base_uri": "https://localhost:8080/",
          "height": 54
        },
        "outputId": "c7a55bc0-2c7e-452e-e23e-f6a5d8bd87b1"
      },
      "source": [
        "(longest_list_length, keys_and_their_lists) = keys_with_longest_lists(non_null_pair_sums)\n",
        "print(f'\\nThe longest pairs list{\"s have\" if len(keys_and_their_lists) > 1 else \" has\"} '\n",
        "      f'{longest_list_length} elements.')"
      ],
      "execution_count": null,
      "outputs": [
        {
          "output_type": "stream",
          "text": [
            "\n",
            "The longest pairs list has 6 elements.\n"
          ],
          "name": "stdout"
        }
      ]
    },
    {
      "cell_type": "markdown",
      "metadata": {
        "id": "Qr0K6CaO1SwT",
        "colab_type": "text"
      },
      "source": [
        "Explain line 1 above."
      ]
    },
    {
      "cell_type": "markdown",
      "metadata": {
        "id": "R6znSp0nreoj",
        "colab_type": "text"
      },
      "source": [
        "Explain lines 2 and 3 above and how they produce the output that's generated.\n",
        "\n",
        "---\n",
        "\n"
      ]
    },
    {
      "cell_type": "code",
      "metadata": {
        "id": "a01DGrHZMDwa",
        "colab_type": "code",
        "colab": {
          "base_uri": "https://localhost:8080/",
          "height": 35
        },
        "outputId": "6f23b39b-cbbe-4322-eb77-d15888d3e7de"
      },
      "source": [
        "for (key, value) in keys_and_their_lists.items():\n",
        "    print(f'{key}: {value}')"
      ],
      "execution_count": null,
      "outputs": [
        {
          "output_type": "stream",
          "text": [
            "25: [(1, 24), (4, 21), (5, 20), (6, 19), (11, 14), (12, 13)]\n"
          ],
          "name": "stdout"
        }
      ]
    },
    {
      "cell_type": "markdown",
      "metadata": {
        "id": "v1mNePkCryRX",
        "colab_type": "text"
      },
      "source": [
        "Explain lines 1 and 2 above and how they produce the output that's generated.\n",
        "\n",
        "---\n",
        "\n"
      ]
    },
    {
      "cell_type": "markdown",
      "metadata": {
        "id": "Knu_WyVUtrKa",
        "colab_type": "text"
      },
      "source": [
        "Run the code above multiple times (using `Run > Run all`) and explain why the longest pairs lists often have different numbers of elements from one run to the next. \n",
        "\n",
        "---\n",
        "\n"
      ]
    },
    {
      "cell_type": "markdown",
      "metadata": {
        "id": "0gt_Mx4RiK_6",
        "colab_type": "text"
      },
      "source": [
        "# Self-evaluations"
      ]
    },
    {
      "cell_type": "markdown",
      "metadata": {
        "id": "OBiDNJ49sLUu",
        "colab_type": "text"
      },
      "source": [
        "Evaluation of  group member 1 by group member 1.\n",
        "\n",
        "---\n",
        "\n",
        "\n"
      ]
    },
    {
      "cell_type": "markdown",
      "metadata": {
        "colab_type": "text",
        "id": "o8yWalc3sZPj"
      },
      "source": [
        "Evaluation of  group member 2 by group member 2.\n",
        "\n",
        "---\n",
        "\n",
        "\n"
      ]
    },
    {
      "cell_type": "markdown",
      "metadata": {
        "colab_type": "text",
        "id": "1fIPecN8sZqN"
      },
      "source": [
        "Evaluation of  group member 3 by group member 3.\n",
        "\n",
        "---\n",
        "\n",
        "\n"
      ]
    },
    {
      "cell_type": "markdown",
      "metadata": {
        "id": "wuqqF5IFtIwK",
        "colab_type": "text"
      },
      "source": [
        "# Optional comments on the self-evaluations"
      ]
    },
    {
      "cell_type": "markdown",
      "metadata": {
        "id": "S2F7tJt0ssLx",
        "colab_type": "text"
      },
      "source": [
        "Optional comments on the self-evaluations by group member 1.\n",
        "\n",
        "---\n",
        "\n"
      ]
    },
    {
      "cell_type": "markdown",
      "metadata": {
        "id": "6WIx0kDis97L",
        "colab_type": "text"
      },
      "source": [
        "Optional comments on the self-evaluations by group member 2.\n",
        "\n",
        "---\n",
        "\n"
      ]
    },
    {
      "cell_type": "markdown",
      "metadata": {
        "id": "Jq2vys5UtC1t",
        "colab_type": "text"
      },
      "source": [
        "Optional comments on the self-evaluations by group member 3.\n",
        "\n",
        "---"
      ]
    }
  ]
}